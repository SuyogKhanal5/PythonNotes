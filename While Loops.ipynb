{
 "cells": [
  {
   "cell_type": "code",
   "execution_count": 4,
   "metadata": {},
   "outputs": [
    {
     "name": "stdout",
     "output_type": "stream",
     "text": [
      "The Current value of x is 0\n",
      "The Current value of x is 1\n",
      "The Current value of x is 2\n",
      "The Current value of x is 3\n",
      "The Current value of x is 4\n"
     ]
    }
   ],
   "source": [
    "x = 0\n",
    "\n",
    "while x<5:\n",
    "    print(f'The Current value of x is {x}')\n",
    "    x = x + 1"
   ]
  },
  {
   "cell_type": "code",
   "execution_count": 6,
   "metadata": {},
   "outputs": [
    {
     "name": "stdout",
     "output_type": "stream",
     "text": [
      "The Current value of x is 0\n",
      "The Current value of x is 1\n",
      "The Current value of x is 2\n",
      "The Current value of x is 3\n",
      "The Current value of x is 4\n",
      "The Current value of x is 5\n",
      "The Current value of x is 6\n",
      "The Current value of x is 7\n",
      "The Current value of x is 8\n",
      "The Current value of x is 9\n",
      "The Current value of x is 10\n",
      "The Current value of x is 11\n",
      "The Current value of x is 12\n",
      "The Current value of x is 13\n",
      "The Current value of x is 14\n",
      "The Current value of x is 15\n",
      "The Current value of x is 16\n",
      "The Current value of x is 17\n",
      "The Current value of x is 18\n",
      "The Current value of x is 19\n",
      "The Current value of x is 20\n",
      "The Current value of x is 21\n",
      "The Current value of x is 22\n",
      "The Current value of x is 23\n",
      "The Current value of x is 24\n",
      "The Current value of x is 25\n",
      "The Current value of x is 26\n",
      "The Current value of x is 27\n",
      "The Current value of x is 28\n",
      "The Current value of x is 29\n",
      "The Current value of x is 30\n",
      "The Current value of x is 31\n",
      "The Current value of x is 32\n",
      "The Current value of x is 33\n",
      "The Current value of x is 34\n",
      "The Current value of x is 35\n",
      "The Current value of x is 36\n",
      "The Current value of x is 37\n",
      "The Current value of x is 38\n",
      "The Current value of x is 39\n",
      "The Current value of x is 40\n",
      "The Current value of x is 41\n",
      "The Current value of x is 42\n",
      "The Current value of x is 43\n",
      "The Current value of x is 44\n",
      "The Current value of x is 45\n",
      "The Current value of x is 46\n",
      "The Current value of x is 47\n",
      "The Current value of x is 48\n",
      "The Current value of x is 49\n",
      "The Current value of x is 50\n",
      "The Current value of x is 51\n",
      "The Current value of x is 52\n",
      "The Current value of x is 53\n",
      "The Current value of x is 54\n",
      "The Current value of x is 55\n",
      "The Current value of x is 56\n",
      "The Current value of x is 57\n",
      "The Current value of x is 58\n",
      "The Current value of x is 59\n",
      "The Current value of x is 60\n",
      "The Current value of x is 61\n",
      "The Current value of x is 62\n",
      "The Current value of x is 63\n",
      "The Current value of x is 64\n",
      "The Current value of x is 65\n",
      "The Current value of x is 66\n",
      "The Current value of x is 67\n",
      "The Current value of x is 68\n",
      "The Current value of x is 69\n",
      "The Current value of x is 70\n",
      "The Current value of x is 71\n",
      "The Current value of x is 72\n",
      "The Current value of x is 73\n",
      "The Current value of x is 74\n",
      "The Current value of x is 75\n",
      "The Current value of x is 76\n",
      "The Current value of x is 77\n",
      "The Current value of x is 78\n",
      "The Current value of x is 79\n",
      "The Current value of x is 80\n",
      "The Current value of x is 81\n",
      "The Current value of x is 82\n",
      "The Current value of x is 83\n",
      "The Current value of x is 84\n",
      "The Current value of x is 85\n",
      "The Current value of x is 86\n",
      "The Current value of x is 87\n",
      "The Current value of x is 88\n",
      "The Current value of x is 89\n",
      "The Current value of x is 90\n",
      "The Current value of x is 91\n",
      "The Current value of x is 92\n",
      "The Current value of x is 93\n",
      "The Current value of x is 94\n",
      "The Current value of x is 95\n",
      "The Current value of x is 96\n",
      "The Current value of x is 97\n",
      "The Current value of x is 98\n",
      "The Current value of x is 99\n",
      "The Current value of x is 100\n"
     ]
    }
   ],
   "source": [
    "x = 0\n",
    "\n",
    "while x<101:\n",
    "    print(f'The Current value of x is {x}')\n",
    "    x = x + 1"
   ]
  },
  {
   "cell_type": "code",
   "execution_count": 7,
   "metadata": {},
   "outputs": [
    {
     "name": "stdout",
     "output_type": "stream",
     "text": [
      "The Current value of x is 0\n",
      "The Current value of x is 1\n",
      "The Current value of x is 2\n",
      "The Current value of x is 3\n",
      "The Current value of x is 4\n",
      "The Current value of x is 5\n",
      "The Current value of x is 6\n",
      "The Current value of x is 7\n",
      "The Current value of x is 8\n",
      "The Current value of x is 9\n",
      "The Current value of x is 10\n",
      "The Current value of x is 11\n",
      "The Current value of x is 12\n",
      "The Current value of x is 13\n",
      "The Current value of x is 14\n",
      "The Current value of x is 15\n",
      "The Current value of x is 16\n",
      "The Current value of x is 17\n",
      "The Current value of x is 18\n",
      "The Current value of x is 19\n",
      "The Current value of x is 20\n",
      "The Current value of x is 21\n",
      "The Current value of x is 22\n",
      "The Current value of x is 23\n",
      "The Current value of x is 24\n",
      "The Current value of x is 25\n",
      "The Current value of x is 26\n",
      "The Current value of x is 27\n",
      "The Current value of x is 28\n",
      "The Current value of x is 29\n",
      "The Current value of x is 30\n",
      "The Current value of x is 31\n",
      "The Current value of x is 32\n",
      "The Current value of x is 33\n",
      "The Current value of x is 34\n",
      "The Current value of x is 35\n",
      "The Current value of x is 36\n",
      "The Current value of x is 37\n",
      "The Current value of x is 38\n",
      "The Current value of x is 39\n",
      "The Current value of x is 40\n",
      "The Current value of x is 41\n",
      "The Current value of x is 42\n",
      "The Current value of x is 43\n",
      "The Current value of x is 44\n",
      "The Current value of x is 45\n",
      "The Current value of x is 46\n",
      "The Current value of x is 47\n",
      "The Current value of x is 48\n",
      "The Current value of x is 49\n",
      "The Current value of x is 50\n",
      "The Current value of x is 51\n",
      "The Current value of x is 52\n",
      "The Current value of x is 53\n",
      "The Current value of x is 54\n",
      "The Current value of x is 55\n",
      "The Current value of x is 56\n",
      "The Current value of x is 57\n",
      "The Current value of x is 58\n",
      "The Current value of x is 59\n",
      "The Current value of x is 60\n",
      "The Current value of x is 61\n",
      "The Current value of x is 62\n",
      "The Current value of x is 63\n",
      "The Current value of x is 64\n",
      "The Current value of x is 65\n",
      "The Current value of x is 66\n",
      "The Current value of x is 67\n",
      "The Current value of x is 68\n",
      "The Current value of x is 69\n",
      "The Current value of x is 70\n",
      "The Current value of x is 71\n",
      "The Current value of x is 72\n",
      "The Current value of x is 73\n",
      "The Current value of x is 74\n",
      "The Current value of x is 75\n",
      "The Current value of x is 76\n",
      "The Current value of x is 77\n",
      "The Current value of x is 78\n",
      "The Current value of x is 79\n",
      "The Current value of x is 80\n",
      "The Current value of x is 81\n",
      "The Current value of x is 82\n",
      "The Current value of x is 83\n",
      "The Current value of x is 84\n",
      "The Current value of x is 85\n",
      "The Current value of x is 86\n",
      "The Current value of x is 87\n",
      "The Current value of x is 88\n",
      "The Current value of x is 89\n",
      "The Current value of x is 90\n",
      "The Current value of x is 91\n",
      "The Current value of x is 92\n",
      "The Current value of x is 93\n",
      "The Current value of x is 94\n",
      "The Current value of x is 95\n",
      "The Current value of x is 96\n",
      "The Current value of x is 97\n",
      "The Current value of x is 98\n",
      "The Current value of x is 99\n",
      "The Current value of x is 100\n"
     ]
    }
   ],
   "source": [
    "x = 0\n",
    "\n",
    "while x<101:\n",
    "    print(f'The Current value of x is {x}')\n",
    "    x += 1"
   ]
  },
  {
   "cell_type": "code",
   "execution_count": 9,
   "metadata": {
    "scrolled": true
   },
   "outputs": [
    {
     "name": "stdout",
     "output_type": "stream",
     "text": [
      "The Current value of x is 0\n",
      "The Current value of x is 1\n",
      "The Current value of x is 2\n",
      "The Current value of x is 3\n",
      "The Current value of x is 4\n",
      "The Current value of x is 5\n",
      "The Current value of x is 6\n",
      "The Current value of x is 7\n",
      "The Current value of x is 8\n",
      "The Current value of x is 9\n",
      "The Current value of x is 10\n",
      "The Current value of x is 11\n",
      "The Current value of x is 12\n",
      "The Current value of x is 13\n",
      "The Current value of x is 14\n",
      "The Current value of x is 15\n",
      "The Current value of x is 16\n",
      "The Current value of x is 17\n",
      "The Current value of x is 18\n",
      "The Current value of x is 19\n",
      "The Current value of x is 20\n",
      "The Current value of x is 21\n",
      "The Current value of x is 22\n",
      "The Current value of x is 23\n",
      "The Current value of x is 24\n",
      "The Current value of x is 25\n",
      "The Current value of x is 26\n",
      "The Current value of x is 27\n",
      "The Current value of x is 28\n",
      "The Current value of x is 29\n",
      "The Current value of x is 30\n",
      "The Current value of x is 31\n",
      "The Current value of x is 32\n",
      "The Current value of x is 33\n",
      "The Current value of x is 34\n",
      "The Current value of x is 35\n",
      "The Current value of x is 36\n",
      "The Current value of x is 37\n",
      "The Current value of x is 38\n",
      "The Current value of x is 39\n",
      "The Current value of x is 40\n",
      "The Current value of x is 41\n",
      "The Current value of x is 42\n",
      "The Current value of x is 43\n",
      "The Current value of x is 44\n",
      "The Current value of x is 45\n",
      "The Current value of x is 46\n",
      "The Current value of x is 47\n",
      "The Current value of x is 48\n",
      "The Current value of x is 49\n",
      "The Current value of x is 50\n",
      "The Current value of x is 51\n",
      "The Current value of x is 52\n",
      "The Current value of x is 53\n",
      "The Current value of x is 54\n",
      "The Current value of x is 55\n",
      "The Current value of x is 56\n",
      "The Current value of x is 57\n",
      "The Current value of x is 58\n",
      "The Current value of x is 59\n",
      "The Current value of x is 60\n",
      "The Current value of x is 61\n",
      "The Current value of x is 62\n",
      "The Current value of x is 63\n",
      "The Current value of x is 64\n",
      "The Current value of x is 65\n",
      "The Current value of x is 66\n",
      "The Current value of x is 67\n",
      "The Current value of x is 68\n",
      "The Current value of x is 69\n",
      "The Current value of x is 70\n",
      "The Current value of x is 71\n",
      "The Current value of x is 72\n",
      "The Current value of x is 73\n",
      "The Current value of x is 74\n",
      "The Current value of x is 75\n",
      "The Current value of x is 76\n",
      "The Current value of x is 77\n",
      "The Current value of x is 78\n",
      "The Current value of x is 79\n",
      "The Current value of x is 80\n",
      "The Current value of x is 81\n",
      "The Current value of x is 82\n",
      "The Current value of x is 83\n",
      "The Current value of x is 84\n",
      "The Current value of x is 85\n",
      "The Current value of x is 86\n",
      "The Current value of x is 87\n",
      "The Current value of x is 88\n",
      "The Current value of x is 89\n",
      "The Current value of x is 90\n",
      "The Current value of x is 91\n",
      "The Current value of x is 92\n",
      "The Current value of x is 93\n",
      "The Current value of x is 94\n",
      "The Current value of x is 95\n",
      "The Current value of x is 96\n",
      "The Current value of x is 97\n",
      "The Current value of x is 98\n",
      "The Current value of x is 99\n",
      "The Current value of x is 100\n",
      "X is not less than 101\n"
     ]
    }
   ],
   "source": [
    "x = 0\n",
    "\n",
    "while x<101:\n",
    "    print(f'The Current value of x is {x}')\n",
    "    x = x + 1\n",
    "else:\n",
    "    print('X is not less than 101')"
   ]
  },
  {
   "cell_type": "code",
   "execution_count": 10,
   "metadata": {},
   "outputs": [],
   "source": [
    "# break: Breaks out of the current closest enclosing loop"
   ]
  },
  {
   "cell_type": "code",
   "execution_count": 11,
   "metadata": {},
   "outputs": [],
   "source": [
    "# continue: Goes to the top of the closest enclosing loop"
   ]
  },
  {
   "cell_type": "code",
   "execution_count": 12,
   "metadata": {},
   "outputs": [],
   "source": [
    "# pass: Does nothing at all"
   ]
  },
  {
   "cell_type": "code",
   "execution_count": 16,
   "metadata": {},
   "outputs": [
    {
     "name": "stdout",
     "output_type": "stream",
     "text": [
      "End of my script\n"
     ]
    }
   ],
   "source": [
    "x = [1,2,3]\n",
    "\n",
    "for item in x:\n",
    "    # Must have something here, pass is used here. Also used as placeholder to avoid syntax error\n",
    "    pass\n",
    "\n",
    "print('End of my script')"
   ]
  },
  {
   "cell_type": "code",
   "execution_count": 17,
   "metadata": {},
   "outputs": [
    {
     "name": "stdout",
     "output_type": "stream",
     "text": [
      "S\n",
      "a\n",
      "m\n",
      "m\n",
      "y\n"
     ]
    }
   ],
   "source": [
    "mystring = 'Sammy'\n",
    "\n",
    "for letter in mystring:\n",
    "    print(letter)"
   ]
  },
  {
   "cell_type": "code",
   "execution_count": 21,
   "metadata": {},
   "outputs": [
    {
     "name": "stdout",
     "output_type": "stream",
     "text": [
      "S\n",
      "m\n",
      "m\n",
      "y\n"
     ]
    }
   ],
   "source": [
    "mystring = 'Sammy'\n",
    "\n",
    "for letter in mystring:\n",
    "    if letter == 'a':\n",
    "        continue\n",
    "    print(letter)"
   ]
  },
  {
   "cell_type": "code",
   "execution_count": 22,
   "metadata": {},
   "outputs": [
    {
     "name": "stdout",
     "output_type": "stream",
     "text": [
      "S\n"
     ]
    }
   ],
   "source": [
    "mystring = 'Sammy'\n",
    "\n",
    "for letter in mystring:\n",
    "    if letter == 'a':\n",
    "        break\n",
    "    print(letter)"
   ]
  },
  {
   "cell_type": "code",
   "execution_count": 24,
   "metadata": {},
   "outputs": [
    {
     "name": "stdout",
     "output_type": "stream",
     "text": [
      "0\n",
      "1\n"
     ]
    }
   ],
   "source": [
    "x = 0\n",
    "\n",
    "while x<5:\n",
    "    if x == 2:\n",
    "        break\n",
    "    print(x)\n",
    "    x += 1"
   ]
  },
  {
   "cell_type": "code",
   "execution_count": null,
   "metadata": {},
   "outputs": [],
   "source": []
  }
 ],
 "metadata": {
  "kernelspec": {
   "display_name": "Python 3",
   "language": "python",
   "name": "python3"
  },
  "language_info": {
   "codemirror_mode": {
    "name": "ipython",
    "version": 3
   },
   "file_extension": ".py",
   "mimetype": "text/x-python",
   "name": "python",
   "nbconvert_exporter": "python",
   "pygments_lexer": "ipython3",
   "version": "3.6.5"
  }
 },
 "nbformat": 4,
 "nbformat_minor": 2
}
