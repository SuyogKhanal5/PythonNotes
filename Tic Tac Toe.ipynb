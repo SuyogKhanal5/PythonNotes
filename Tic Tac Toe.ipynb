{
 "cells": [
  {
   "cell_type": "code",
   "execution_count": null,
   "metadata": {},
   "outputs": [],
   "source": [
    "from IPython.display import clear_output"
   ]
  },
  {
   "cell_type": "code",
   "execution_count": null,
   "metadata": {},
   "outputs": [],
   "source": [
    "from IPython.display import clear_output\n",
    "\n",
    "def display_board(board):\n",
    "    print(board[7] + '|' + board[8] + '|' + board[9])\n",
    "    print(board[7] + '|' + board[8] + '|'+ board[9])\n",
    "    print(board[7] + '|' + board[8] + '|'+ board[9])"
   ]
  },
  {
   "cell_type": "code",
   "execution_count": null,
   "metadata": {},
   "outputs": [],
   "source": [
    "test_board = ['#','X','O','X','O','X','O','X','O','X']"
   ]
  },
  {
   "cell_type": "code",
   "execution_count": null,
   "metadata": {},
   "outputs": [],
   "source": [
    "from IPython.display import clear_output\n",
    "\n",
    "test_board = ['#','X','O','X','O','X','O','X','O','X']\n",
    "\n",
    "def display_board(board):\n",
    "    print(board[7] + '|' + board[8] + '|' + board[9])\n",
    "    print(board[7] + '|' + board[8] + '|'+ board[9])\n",
    "    print(board[7] + '|' + board[8] + '|'+ board[9])\n",
    "    \n",
    "display_board(test_board)"
   ]
  },
  {
   "cell_type": "code",
   "execution_count": null,
   "metadata": {},
   "outputs": [],
   "source": [
    " from IPython.display import clear_output\n",
    "\n",
    " test_board = ['#','X','O','X','O','X','O','X','O','X']\n",
    "\n",
    " def display_board(board):\n",
    "    print(board[7] + '|' + board[8] + '|' + board[9])\n",
    "    print(board[7] + '|' + board[8] + '|'+ board[9])\n",
    "    print(board[7] + '|' + board[8] + '|'+ board[9])\n",
    "    \n",
    " display_board(test_board)\n",
    "\n",
    " def player_input():\n",
    "    \n",
    "    marker = ''\n",
    "    \n",
    "    while marker != \"X\" and marker != \"O\":\n",
    "         marker = input('Player One, Choose X or O:')\n",
    "       \n",
    "    player1 = marker\n",
    "\n",
    "    if player1 == 'X':\n",
    "        player2 = 'O'\n",
    "    else: \n",
    "        player2 = 'X'\n",
    "        \n",
    "    print(player1,player2)"
   ]
  },
  {
   "cell_type": "code",
   "execution_count": null,
   "metadata": {},
   "outputs": [],
   "source": [
    " from IPython.display import clear_output\n",
    "\n",
    "blank_board = [' ']*10    \n",
    "\n",
    " def display_board(board):\n",
    "    print(board[7] + '|' + board[8] + '|'+ board[9])\n",
    "    print(board[4] + '|' + board[5] + '|'+ board[6])\n",
    "    print(board[1] + '|' + board[2] + '|'+ board[3])\n",
    "    \n",
    " display_board(blank_board)\n",
    "\n",
    " def player_input():\n",
    "    \n",
    "    marker = ''\n",
    "    \n",
    "    while marker != \"X\" and marker != \"O\":\n",
    "         marker = input('Player One, Choose X or O:')\n",
    "       \n",
    "    player1 = marker\n",
    "\n",
    "    if player1 == 'X':\n",
    "        player2 = 'O'\n",
    "    else: \n",
    "        player2 = 'X'\n",
    "        \n",
    "    print(player1,player2)"
   ]
  },
  {
   "cell_type": "code",
   "execution_count": null,
   "metadata": {},
   "outputs": [],
   "source": [
    "from IPython.display import clear_output\n",
    "\n",
    "blank_board = [' ']*10    \n",
    "\n",
    "def display_board(board):\n",
    "    print(board[7] + '|' + board[8] + '|'+ board[9])\n",
    "    print(board[4] + '|' + board[5] + '|'+ board[6])\n",
    "    print(board[1] + '|' + board[2] + '|'+ board[3])\n",
    "\n",
    "display_board(blank_board)\n",
    "\n",
    "def player_input():\n",
    "    \n",
    "    marker = ''\n",
    "    \n",
    "    while marker != \"X\" and marker != \"O\":\n",
    "         marker = input('Player One, Choose X or O:')\n",
    "       \n",
    "    player1 = marker\n",
    "\n",
    "    if player1 == 'X':\n",
    "        player2 = 'O'\n",
    "    else: \n",
    "        player2 = 'X'\n",
    "        \n",
    "    print(player1,player2)"
   ]
  },
  {
   "cell_type": "code",
   "execution_count": null,
   "metadata": {},
   "outputs": [],
   "source": [
    "player_input()"
   ]
  },
  {
   "cell_type": "code",
   "execution_count": null,
   "metadata": {},
   "outputs": [],
   "source": [
    "display_board(blank_board)"
   ]
  },
  {
   "cell_type": "code",
   "execution_count": null,
   "metadata": {},
   "outputs": [],
   "source": [
    "from IPython.display import clear_output\n",
    "\n",
    "blank_board = [' ']*10    \n",
    "\n",
    "def display_board(board):\n",
    "    print(board[7] + '|' + board[8] + '|'+ board[9])\n",
    "    print(board[4] + '|' + board[5] + '|'+ board[6])\n",
    "    print(board[1] + '|' + board[2] + '|'+ board[3])\n",
    "\n",
    "display_board(blank_board)\n",
    "\n",
    "def player_input():\n",
    "    \n",
    "    marker = ''\n",
    "    \n",
    "    while marker != \"X\" and marker != \"O\":\n",
    "         marker = input('Player One, Choose X or O:')\n",
    "       \n",
    "    player1 = marker\n",
    "\n",
    "    if player1 == 'X':\n",
    "        player2 = 'O'\n",
    "    else: \n",
    "        player2 = 'X'\n",
    "        \n",
    "    print(player1,player2)\n",
    "    \n",
    "move = ''\n",
    "\n",
    "while move != 1-9:\n",
    "    move = input('Where would you like to place your marker? (Look at the NumPad to see which number places where)')"
   ]
  },
  {
   "cell_type": "code",
   "execution_count": null,
   "metadata": {},
   "outputs": [],
   "source": [
    "display_board(board)"
   ]
  },
  {
   "cell_type": "code",
   "execution_count": null,
   "metadata": {},
   "outputs": [],
   "source": [
    "player_input()"
   ]
  },
  {
   "cell_type": "code",
   "execution_count": null,
   "metadata": {},
   "outputs": [],
   "source": [
    "from IPython.display import clear_output\n",
    "\n",
    "blank_board = [' ']*10    \n",
    "\n",
    "def display_board(board):\n",
    "    print(board[7] + '|' + board[8] + '|'+ board[9])\n",
    "    print(board[4] + '|' + board[5] + '|'+ board[6])\n",
    "    print(board[1] + '|' + board[2] + '|'+ board[3])\n",
    "\n",
    "display_board(blank_board)\n",
    "\n",
    "def player_input():\n",
    "    \n",
    "    marker = ''\n",
    "    \n",
    "    while marker != \"X\" and marker != \"O\":\n",
    "         marker = input('Player One, Choose X or O:')\n",
    "       \n",
    "    player1 = marker\n",
    "\n",
    "    if player1 == 'X':\n",
    "        player2 = 'O'\n",
    "    else: \n",
    "        player2 = 'X'\n",
    "        \n",
    "    print(player1,player2)\n",
    "    \n",
    "move = ''\n",
    "\n",
    "while move != 1-9:\n",
    "    move = input('Where would you like to place your marker? (Look at the NumPad to see which number places where)')"
   ]
  },
  {
   "cell_type": "code",
   "execution_count": null,
   "metadata": {},
   "outputs": [],
   "source": [
    "player_input()"
   ]
  },
  {
   "cell_type": "code",
   "execution_count": null,
   "metadata": {},
   "outputs": [],
   "source": [
    "display_board()"
   ]
  },
  {
   "cell_type": "code",
   "execution_count": null,
   "metadata": {},
   "outputs": [],
   "source": [
    "from IPython.display import clear_output\n",
    "\n",
    "blank_board = [' ']*10    \n",
    "\n",
    "def display_board(board):\n",
    "    print(board[7] + '|' + board[8] + '|'+ board[9])\n",
    "    print(board[4] + '|' + board[5] + '|'+ board[6])\n",
    "    print(board[1] + '|' + board[2] + '|'+ board[3])\n",
    "\n",
    "display_board(blank_board)\n",
    "\n",
    "def player_input():\n",
    "    \n",
    "    marker = ''\n",
    "    \n",
    "    while marker != \"X\" and marker != \"O\":\n",
    "         marker = input('Player One, Choose X or O:')\n",
    "       \n",
    "    player1 = marker\n",
    "\n",
    "    if player1 == 'X':\n",
    "        player2 = 'O'\n",
    "    else: \n",
    "        player2 = 'X'\n",
    "        \n",
    "    print(player1,player2)\n",
    "    \n",
    "move = ''\n",
    "\n",
    "while move != 1-9:\n",
    "    move = input('Where would you like to place your marker? (Look at the NumPad to see which number places where)')"
   ]
  },
  {
   "cell_type": "code",
   "execution_count": null,
   "metadata": {},
   "outputs": [],
   "source": []
  }
 ],
 "metadata": {
  "kernelspec": {
   "display_name": "Python 3",
   "language": "python",
   "name": "python3"
  },
  "language_info": {
   "codemirror_mode": {
    "name": "ipython",
    "version": 3
   },
   "file_extension": ".py",
   "mimetype": "text/x-python",
   "name": "python",
   "nbconvert_exporter": "python",
   "pygments_lexer": "ipython3",
   "version": "3.6.5"
  }
 },
 "nbformat": 4,
 "nbformat_minor": 2
}
